{
  "nbformat": 4,
  "nbformat_minor": 0,
  "metadata": {
    "colab": {
      "name": "Untitled9.ipynb",
      "provenance": [],
      "authorship_tag": "ABX9TyPLsTU6lA5BWg7d1kaj3ej9",
      "include_colab_link": true
    },
    "kernelspec": {
      "name": "python3",
      "display_name": "Python 3"
    },
    "language_info": {
      "name": "python"
    }
  },
  "cells": [
    {
      "cell_type": "markdown",
      "metadata": {
        "id": "view-in-github",
        "colab_type": "text"
      },
      "source": [
        "<a href=\"https://colab.research.google.com/github/tanvikurade/Open-CV-Projects/blob/main/Background%20Extraction.ipynb\" target=\"_parent\"><img src=\"https://colab.research.google.com/assets/colab-badge.svg\" alt=\"Open In Colab\"/></a>"
      ]
    },
    {
      "cell_type": "code",
      "metadata": {
        "id": "XrJJwIOLIyB-"
      },
      "source": [
        "import numpy as np\n",
        "import cv2 \n",
        "from google.colab.patches import cv2_imshow\n",
        " \n",
        "cap = cv2.VideoCapture('/content/walking.avi')\n",
        "fgbg = cv2.createBackgroundSubtractorMOG2()\n",
        " \n",
        "while(1):\n",
        "    ret, frame = cap.read()\n",
        " \n",
        "    fgmask = fgbg.apply(frame)\n",
        "  \n",
        "    cv2_imshow(fgmask)\n",
        "    cv2_imshow(frame )\n",
        " \n",
        "     \n",
        "    k = cv2.waitKey(30) & 0xff\n",
        "    if k == 27:\n",
        "        break\n",
        "     \n",
        " \n",
        "cap.release()\n",
        "cv2.destroyAllWindows()"
      ],
      "execution_count": null,
      "outputs": []
    }
  ]
}