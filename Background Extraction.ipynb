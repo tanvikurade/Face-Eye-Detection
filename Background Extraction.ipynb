{
 "cells": [
  {
   "cell_type": "code",
   "execution_count": null,
   "id": "701754de",
   "metadata": {},
   "outputs": [],
   "source": [
    "import numpy as np\n",
    "import cv2\n",
    "\n",
    "cap = cv2.VideoCapture(r\"C:\\Users\\Tanvi\\Downloads\\walking.avi\")\n",
    "\n",
    "# initializing subtractor\n",
    "fgbg = cv2.bgsegm.createBackgroundSubtractorMOG()\n",
    "\n",
    "while(1):\n",
    "\tret, frame = cap.read()\t\n",
    "\n",
    "\t# applying on each frame\n",
    "\tfgmask = fgbg.apply(frame)\n",
    "\n",
    "\tcv2.imshow('frame', fgmask)\n",
    "\tk = cv2.waitKey(30) & 0xff\n",
    "\tif k == 27:\n",
    "\t\tbreak\n",
    "\n",
    "cap.release()\n",
    "cv2.destroyAllWindows()"
   ]
  }
 ],
 "metadata": {
  "kernelspec": {
   "display_name": "Python 3",
   "language": "python",
   "name": "python3"
  },
  "language_info": {
   "codemirror_mode": {
    "name": "ipython",
    "version": 3
   },
   "file_extension": ".py",
   "mimetype": "text/x-python",
   "name": "python",
   "nbconvert_exporter": "python",
   "pygments_lexer": "ipython3",
   "version": "3.9.5"
  }
 },
 "nbformat": 4,
 "nbformat_minor": 5
}
